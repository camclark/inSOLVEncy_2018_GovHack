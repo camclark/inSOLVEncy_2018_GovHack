{
 "cells": [
  {
   "cell_type": "code",
   "execution_count": 173,
   "metadata": {
    "collapsed": true
   },
   "outputs": [
    {
     "name": "stdout",
     "output_type": "stream",
     "text": [
      "['non-compliance-in-personal-insolvencies.csv']\n"
     ]
    }
   ],
   "source": [
    "from __future__ import division\n",
    "from __future__ import print_function\n",
    "\n",
    "import matplotlib\n",
    "matplotlib.use('TkAgg') \n",
    "import numpy as np \n",
    "import pandas as pd \n",
    "\n",
    "import seaborn as sns\n",
    "from matplotlib import pyplot as plt\n",
    "sns.set_style(\"whitegrid\")\n",
    "%matplotlib inline\n",
    "\n",
    "import warnings\n",
    "warnings.filterwarnings(\"ignore\")\n",
    "\n",
    "import os \n",
    "USER_DIR = os.path.expanduser('~')\n",
    "DATA_DIR = os.path.join(USER_DIR, 'dev','comp','govhack18','data')\n",
    "print(os.listdir(DATA_DIR))\n"
   ]
  },
  {
   "cell_type": "code",
   "execution_count": 174,
   "metadata": {},
   "outputs": [
    {
     "name": "stdout",
     "output_type": "stream",
     "text": [
      "fpath =  /home/jc138691/dev/comp/govhack18/data/non-compliance-in-personal-insolvencies.csv\n"
     ]
    }
   ],
   "source": [
    "INPUT_CSV = 'non-compliance-in-personal-insolvencies.csv'\n",
    "fpath = os.path.join(DATA_DIR, INPUT_CSV)\n",
    "print('fpath = ', fpath) "
   ]
  },
  {
   "cell_type": "code",
   "execution_count": 175,
   "metadata": {},
   "outputs": [
    {
     "name": "stdout",
     "output_type": "stream",
     "text": [
      "   Unique ID  Calendar Year of Insolvency   SA3 of Debtor  SA3 Code of Debtor  \\\n0    3452750                         2010  South Canberra               80106   \n1    3563908                         2011    Weston Creek               80108   \n2    3252673                         2012     Tuggeranong               80107   \n3    3610744                         2013     Tuggeranong               80107   \n4    3610734                         2013     Tuggeranong               80107   \n\n                GCCSA of Debtor GCCSA Code of Debtor  \\\n0  Australian Capital Territory                8ACTE   \n1  Australian Capital Territory                8ACTE   \n2  Australian Capital Territory                8ACTE   \n3  Australian Capital Territory                8ACTE   \n4  Australian Capital Territory                8ACTE   \n\n                State of Debtor Sex of Debtor           Family Situation  \\\n0  Australian Capital Territory        Female     Single with Dependants   \n1  Australian Capital Territory          Male  Couple without Dependants   \n2  Australian Capital Territory        Female     Single with Dependants   \n3  Australian Capital Territory        Female     Couple with Dependants   \n4  Australian Capital Territory          Male     Couple with Dependants   \n\n   Debtor Occupation Code (ANZSCO)               ...                 \\\n0                             39.0               ...                  \n1                             84.0               ...                  \n2                             11.0               ...                  \n3                             99.0               ...                  \n4                             22.0               ...                  \n\n   Debtor Income         Primary Income Source Unsecured Debts  \\\n0      $0-$49999  Government benefits/Pensions       $0-$49999   \n1      $0-$49999  Government benefits/Pensions       $0-$49999   \n2  $50000-$99999        Gross Wages and Salary   $50000-$99999   \n3      $0-$49999                       Unknown       $0-$49999   \n4  $50000-$99999        Gross Wages and Salary   $50000-$99999   \n\n  Value of Assets Type of Party Non-Compliance Type Result of Non-Compliance  \\\n0       $0-$49999           NaN                 NaN                      NaN   \n1       $0-$49999           NaN                 NaN                      NaN   \n2       $0-$49999           NaN                 NaN                      NaN   \n3       $0-$49999           NaN                 NaN                      NaN   \n4       $0-$49999           NaN                 NaN                      NaN   \n\n  Number of Instances Outcome of Non-Compliance  \\\n0                 NaN                       NaN   \n1                 NaN                       NaN   \n2                 NaN                       NaN   \n3                 NaN                       NaN   \n4                 NaN                       NaN   \n\n  Non-Compliance Conviction Result  \n0                              NaN  \n1                              NaN  \n2                              NaN  \n3                              NaN  \n4                              NaN  \n\n[5 rows x 23 columns]\n"
     ]
    }
   ],
   "source": [
    "df = pd.read_csv(fpath)\n",
    "print(df.head())"
   ]
  },
  {
   "cell_type": "code",
   "execution_count": 176,
   "metadata": {},
   "outputs": [
    {
     "name": "stdout",
     "output_type": "stream",
     "text": [
      "df.columns =  Index([u'Unique ID', u'Calendar Year of Insolvency', u'SA3 of Debtor',\n       u'SA3 Code of Debtor', u'GCCSA of Debtor', u'GCCSA Code of Debtor',\n       u'State of Debtor', u'Sex of Debtor', u'Family Situation',\n       u'Debtor Occupation Code (ANZSCO)', u'Debtor Occupation Name (ANZSCO)',\n       u'Main Cause of Insolvency', u'Business Related Insolvency',\n       u'Debtor Income', u'Primary Income Source', u'Unsecured Debts',\n       u'Value of Assets', u'Type of Party', u'Non-Compliance Type',\n       u'Result of Non-Compliance', u'Number of Instances',\n       u'Outcome of Non-Compliance', u'Non-Compliance Conviction Result'],\n      dtype='object')\nIndex([u'Unique ID', u'Calendar Year of Insolvency', u'SA3 of Debtor',\n       u'SA3 Code of Debtor', u'GCCSA of Debtor', u'GCCSA Code of Debtor',\n       u'State of Debtor', u'Sex of Debtor', u'Family Situation',\n       u'Debtor Occupation Code (ANZSCO)', u'Debtor Occupation Name (ANZSCO)',\n       u'Main Cause of Insolvency', u'Business Related Insolvency',\n       u'Debtor Income', u'Primary Income Source', u'Unsecured Debts',\n       u'Value of Assets', u'Type of Party', u'Non-Compliance Type',\n       u'Result of Non-Compliance', u'Number of Instances',\n       u'Outcome of Non-Compliance', u'Non-Compliance Conviction Result'],\n      dtype='object')\n"
     ]
    }
   ],
   "source": [
    "print('df.columns = ', df.columns)\n",
    "print(df.keys())"
   ]
  },
  {
   "cell_type": "code",
   "execution_count": 177,
   "metadata": {},
   "outputs": [
    {
     "name": "stdout",
     "output_type": "stream",
     "text": [
      "df.columns =  Index([u'Unique ID', u'Calendar Year of Insolvency', u'SA3 of Debtor',\n       u'SA3 Code of Debtor', u'GCCSA of Debtor', u'GCCSA Code of Debtor',\n       u'State of Debtor', u'Sex of Debtor', u'Family Situation',\n       u'Debtor Occupation Code (ANZSCO)', u'Main Cause of Insolvency',\n       u'Business Related Insolvency', u'Debtor Income',\n       u'Primary Income Source', u'Unsecured Debts', u'Value of Assets',\n       u'Type of Party', u'Non-Compliance Type', u'Result of Non-Compliance',\n       u'Number of Instances', u'Outcome of Non-Compliance',\n       u'Non-Compliance Conviction Result'],\n      dtype='object')\n"
     ]
    }
   ],
   "source": [
    "df = df.drop(labels = ['Debtor Occupation Name (ANZSCO)'], axis = 1)\n",
    "print('df.columns = ', df.columns)\n"
   ]
  },
  {
   "cell_type": "code",
   "execution_count": 178,
   "metadata": {},
   "outputs": [
    {
     "name": "stdout",
     "output_type": "stream",
     "text": [
      "   Unique ID  Calendar Year of Insolvency   SA3 of Debtor  SA3 Code of Debtor  \\\n0    3452750                         2010  South Canberra               80106   \n1    3563908                         2011    Weston Creek               80108   \n2    3252673                         2012     Tuggeranong               80107   \n3    3610744                         2013     Tuggeranong               80107   \n4    3610734                         2013     Tuggeranong               80107   \n\n                GCCSA of Debtor GCCSA Code of Debtor  \\\n0  Australian Capital Territory                8ACTE   \n1  Australian Capital Territory                8ACTE   \n2  Australian Capital Territory                8ACTE   \n3  Australian Capital Territory                8ACTE   \n4  Australian Capital Territory                8ACTE   \n\n                State of Debtor Sex of Debtor           Family Situation  \\\n0  Australian Capital Territory        Female     Single with Dependants   \n1  Australian Capital Territory          Male  Couple without Dependants   \n2  Australian Capital Territory        Female     Single with Dependants   \n3  Australian Capital Territory        Female     Couple with Dependants   \n4  Australian Capital Territory          Male     Couple with Dependants   \n\n   Debtor Occupation Code (ANZSCO)                ...                 \\\n0                                3                ...                  \n1                                8                ...                  \n2                                1                ...                  \n3                                9                ...                  \n4                                2                ...                  \n\n   Debtor Income         Primary Income Source Unsecured Debts  \\\n0      $0-$49999  Government benefits/Pensions       $0-$49999   \n1      $0-$49999  Government benefits/Pensions       $0-$49999   \n2  $50000-$99999        Gross Wages and Salary   $50000-$99999   \n3      $0-$49999                       Unknown       $0-$49999   \n4  $50000-$99999        Gross Wages and Salary   $50000-$99999   \n\n  Value of Assets Type of Party Non-Compliance Type Result of Non-Compliance  \\\n0       $0-$49999           NaN                 NaN                      NaN   \n1       $0-$49999           NaN                 NaN                      NaN   \n2       $0-$49999           NaN                 NaN                      NaN   \n3       $0-$49999           NaN                 NaN                      NaN   \n4       $0-$49999           NaN                 NaN                      NaN   \n\n  Number of Instances Outcome of Non-Compliance  \\\n0                 NaN                       NaN   \n1                 NaN                       NaN   \n2                 NaN                       NaN   \n3                 NaN                       NaN   \n4                 NaN                       NaN   \n\n   Non-Compliance Conviction Result  \n0                               NaN  \n1                               NaN  \n2                               NaN  \n3                               NaN  \n4                               NaN  \n\n[5 rows x 22 columns]\n"
     ]
    }
   ],
   "source": [
    "col_name = 'Debtor Occupation Code (ANZSCO)'\n",
    "df[col_name].fillna(0, inplace=True)\n",
    "# df[col_name] = (df[col_name] / 10.).astype(int)\n",
    "df[col_name] = (df[col_name] / 10.).apply(np.floor).astype(int)\n",
    "print(df.head())\n"
   ]
  },
  {
   "cell_type": "code",
   "execution_count": 179,
   "metadata": {},
   "outputs": [],
   "source": [
    "types_df = df.dtypes\n",
    "num_values = types_df[(types_df == float)]\n",
    "print(\"These are the numerical features:\")\n",
    "print(num_values)\n"
   ]
  },
  {
   "cell_type": "code",
   "execution_count": 180,
   "metadata": {},
   "outputs": [
    {
     "name": "stdout",
     "output_type": "stream",
     "text": [
      "          Unique ID  Calendar Year of Insolvency  SA3 Code of Debtor  \\\ncount  3.565000e+05                356500.000000       356500.000000   \nmean   3.617463e+06                  2012.335195        26240.855436   \nstd    2.858009e+05                     3.228209        15011.277165   \nmin   -1.000000e+00                  2007.000000            0.000000   \n25%    3.470463e+06                  2010.000000        12301.000000   \n50%    3.610774e+06                  2012.000000        21305.000000   \n75%    3.842801e+06                  2015.000000        31503.000000   \nmax    4.190636e+06                  2018.000000        80111.000000   \n\n       Debtor Occupation Code (ANZSCO)  Number of Instances  \ncount                    356500.000000         14892.000000  \nmean                          4.871408             0.667002  \nstd                           2.711526             0.978984  \nmin                           0.000000             0.000000  \n25%                           3.000000             0.000000  \n50%                           5.000000             1.000000  \n75%                           7.000000             1.000000  \nmax                           9.000000            31.000000  \n"
     ]
    }
   ],
   "source": [
    "print(df.describe())"
   ]
  },
  {
   "cell_type": "code",
   "execution_count": 181,
   "metadata": {},
   "outputs": [
    {
     "name": "stdout",
     "output_type": "stream",
     "text": [
      " Data Frame\n"
     ]
    },
    {
     "name": "stdout",
     "output_type": "stream",
     "text": [
      "Unique ID                                0\nCalendar Year of Insolvency              0\nSA3 of Debtor                            0\nSA3 Code of Debtor                       0\nGCCSA of Debtor                          0\nGCCSA Code of Debtor                     0\nState of Debtor                          0\nSex of Debtor                            0\nFamily Situation                         0\nDebtor Occupation Code (ANZSCO)          0\nMain Cause of Insolvency                 0\nBusiness Related Insolvency              0\nDebtor Income                            0\nPrimary Income Source                    0\nUnsecured Debts                          0\nValue of Assets                          0\nType of Party                       341629\nNon-Compliance Type                 341608\nResult of Non-Compliance            342306\nNumber of Instances                 341608\nOutcome of Non-Compliance           345672\nNon-Compliance Conviction Result    352942\ndtype: int64\n \n"
     ]
    }
   ],
   "source": [
    "def null_table(df):\n",
    "    print(\" Data Frame\")\n",
    "    print(pd.isnull(df).sum()) \n",
    "    print(\" \")\n",
    "\n",
    "null_table(df)"
   ]
  },
  {
   "cell_type": "code",
   "execution_count": 182,
   "metadata": {
    "collapsed": true
   },
   "outputs": [
    {
     "name": "stdout",
     "output_type": "stream",
     "text": [
      "Unique ID                           356500\nCalendar Year of Insolvency             12\nSA3 of Debtor                          343\nSA3 Code of Debtor                     343\nGCCSA of Debtor                         25\nGCCSA Code of Debtor                    25\nState of Debtor                         10\nSex of Debtor                            4\nFamily Situation                         6\nDebtor Occupation Code (ANZSCO)         10\nMain Cause of Insolvency                23\nBusiness Related Insolvency              3\nDebtor Income                            7\nPrimary Income Source                   11\nUnsecured Debts                         21\nValue of Assets                         21\nType of Party                           13\nNon-Compliance Type                      7\nResult of Non-Compliance                17\nNumber of Instances                     21\nOutcome of Non-Compliance              164\nNon-Compliance Conviction Result         8\ndtype: int64\n"
     ]
    }
   ],
   "source": [
    "print(df.nunique())"
   ]
  },
  {
   "cell_type": "code",
   "execution_count": 183,
   "metadata": {},
   "outputs": [
    {
     "data": {
      "text/plain": [
       "<matplotlib.axes._subplots.AxesSubplot at 0x7fb3417cb550>"
      ]
     },
     "execution_count": 183,
     "metadata": {},
     "output_type": "execute_result"
    },
    {
     "data": {
      "image/png": "[encoded data removed]",
      "text/plain": [
       "<Figure size 432x288 with 1 Axes>"
      ]
     },
     "metadata": {},
     "output_type": "display_data"
    }
   ],
   "source": [
    "df2 = df.copy()\n",
    "df2.dropna(inplace = True)\n",
    "sns.distplot(df2[\"Calendar Year of Insolvency\"])"
   ]
  },
  {
   "cell_type": "code",
   "execution_count": 184,
   "metadata": {},
   "outputs": [],
   "source": [
    ""
   ]
  },
  {
   "cell_type": "code",
   "execution_count": 184,
   "metadata": {},
   "outputs": [
    {
     "name": "stdout",
     "output_type": "stream",
     "text": [
      "[nan 'Offence Referral' 'Info Request' 'Objection to Discharge'\n 'Inspection Error' 'Complaint' 'AER Info Request' 'Other']\n"
     ]
    },
    {
     "name": "stdout",
     "output_type": "stream",
     "text": [
      "[nan 'Offence Referral' 'Info Request' 'Objection to Discharge' ''\n 'Complaint' 'AER Info Request' 'Other']\n"
     ]
    }
   ],
   "source": [
    "print(df['Non-Compliance Type'].unique())\n",
    "IGNORE_TYPE = 'Inspection Error'\n",
    "df = df.replace([IGNORE_TYPE], ['']) \n",
    "# print(df.head())\n",
    "print(df['Non-Compliance Type'].unique())"
   ]
  },
  {
   "cell_type": "code",
   "execution_count": 185,
   "metadata": {},
   "outputs": [
    {
     "name": "stdout",
     "output_type": "stream",
     "text": [
      "['Female' 'Male' 'Not Stated' 'Unknown']\n"
     ]
    },
    {
     "name": "stdout",
     "output_type": "stream",
     "text": [
      "['Female' 'Male' 'Unknown']\n"
     ]
    }
   ],
   "source": [
    "print(df['Sex of Debtor'].unique())\n",
    "df = df.replace(['Not Stated'], ['Unknown'])\n",
    "print(df['Sex of Debtor'].unique())\n"
   ]
  },
  {
   "cell_type": "code",
   "execution_count": 186,
   "metadata": {},
   "outputs": [
    {
     "name": "stdout",
     "output_type": "stream",
     "text": [
      "   Unique ID  Calendar Year of Insolvency   SA3 of Debtor  SA3 Code of Debtor  \\\n0    3452750                         2010  South Canberra               80106   \n1    3563908                         2011    Weston Creek               80108   \n2    3252673                         2012     Tuggeranong               80107   \n3    3610744                         2013     Tuggeranong               80107   \n4    3610734                         2013     Tuggeranong               80107   \n\n                GCCSA of Debtor GCCSA Code of Debtor  \\\n0  Australian Capital Territory                8ACTE   \n1  Australian Capital Territory                8ACTE   \n2  Australian Capital Territory                8ACTE   \n3  Australian Capital Territory                8ACTE   \n4  Australian Capital Territory                8ACTE   \n\n                State of Debtor Sex of Debtor           Family Situation  \\\n0  Australian Capital Territory        Female     Single with Dependants   \n1  Australian Capital Territory          Male  Couple without Dependants   \n2  Australian Capital Territory        Female     Single with Dependants   \n3  Australian Capital Territory        Female     Couple with Dependants   \n4  Australian Capital Territory          Male     Couple with Dependants   \n\n   Debtor Occupation Code (ANZSCO) ...         Primary Income Source  \\\n0                                3 ...  Government benefits/Pensions   \n1                                8 ...  Government benefits/Pensions   \n2                                1 ...        Gross Wages and Salary   \n3                                9 ...                       Unknown   \n4                                2 ...        Gross Wages and Salary   \n\n  Unsecured Debts Value of Assets Type of Party Non-Compliance Type  \\\n0       $0-$49999       $0-$49999           NaN                 NaN   \n1       $0-$49999       $0-$49999           NaN                 NaN   \n2   $50000-$99999       $0-$49999           NaN                 NaN   \n3       $0-$49999       $0-$49999           NaN                 NaN   \n4   $50000-$99999       $0-$49999           NaN                 NaN   \n\n  Result of Non-Compliance Number of Instances Outcome of Non-Compliance  \\\n0                      NaN                 NaN                       NaN   \n1                      NaN                 NaN                       NaN   \n2                      NaN                 NaN                       NaN   \n3                      NaN                 NaN                       NaN   \n4                      NaN                 NaN                       NaN   \n\n  Non-Compliance Conviction Result  Y  \n0                              NaN  0  \n1                              NaN  0  \n2                              NaN  0  \n3                              NaN  0  \n4                              NaN  0  \n\n[5 rows x 23 columns]\n"
     ]
    },
    {
     "data": {
      "text/plain": [
       "<matplotlib.axes._subplots.AxesSubplot at 0x7fb34031a790>"
      ]
     },
     "execution_count": 186,
     "metadata": {},
     "output_type": "execute_result"
    },
    {
     "data": {
      "image/png": "[encoded data removed]",
      "text/plain": [
       "<Figure size 432x288 with 1 Axes>"
      ]
     },
     "metadata": {},
     "output_type": "display_data"
    }
   ],
   "source": [
    "NON_COMP_COLS = ['Non-Compliance Type', 'Result of Non-Compliance', \n",
    "                 'Number of Instances', 'Outcome of Non-Compliance', 'Non-Compliance Conviction Result']\n",
    "df2 = df.copy()\n",
    "df['Y'] = (~df2[NON_COMP_COLS].isnull()).sum(axis=1)\n",
    "df['Y'] = (df['Y'] > 0).astype(int)\n",
    "print(df.head())\n",
    "\n",
    "sns.distplot(df[\"Y\"])"
   ]
  },
  {
   "cell_type": "code",
   "execution_count": 187,
   "metadata": {},
   "outputs": [
    {
     "name": "stdout",
     "output_type": "stream",
     "text": [
      "df.columns =  Index([u'Unique ID', u'Calendar Year of Insolvency', u'SA3 of Debtor',\n       u'SA3 Code of Debtor', u'GCCSA of Debtor', u'GCCSA Code of Debtor',\n       u'State of Debtor', u'Sex of Debtor', u'Family Situation',\n       u'Debtor Occupation Code (ANZSCO)', u'Main Cause of Insolvency',\n       u'Business Related Insolvency', u'Debtor Income',\n       u'Primary Income Source', u'Unsecured Debts', u'Value of Assets',\n       u'Type of Party', u'Y'],\n      dtype='object')\ndf.columns =  Index([u'Unique ID', u'Calendar Year of Insolvency', u'GCCSA Code of Debtor',\n       u'State of Debtor', u'Sex of Debtor', u'Family Situation',\n       u'Debtor Occupation Code (ANZSCO)', u'Main Cause of Insolvency',\n       u'Business Related Insolvency', u'Debtor Income',\n       u'Primary Income Source', u'Unsecured Debts', u'Value of Assets',\n       u'Type of Party', u'Y'],\n      dtype='object')\n"
     ]
    },
    {
     "name": "stdout",
     "output_type": "stream",
     "text": [
      "Unique ID                          356500\nCalendar Year of Insolvency            12\nGCCSA Code of Debtor                   25\nState of Debtor                        10\nSex of Debtor                           3\nFamily Situation                        5\nDebtor Occupation Code (ANZSCO)        10\nMain Cause of Insolvency               22\nBusiness Related Insolvency             3\nDebtor Income                           7\nPrimary Income Source                  11\nUnsecured Debts                        21\nValue of Assets                        21\nType of Party                          13\nY                                       2\ndtype: int64\n"
     ]
    }
   ],
   "source": [
    "df = df.drop(labels = NON_COMP_COLS, axis = 1)\n",
    "print('df.columns = ', df.columns)\n",
    "IGNORE_COLS = ['GCCSA of Debtor','SA3 Code of Debtor', 'SA3 of Debtor']\n",
    "df = df.drop(labels = IGNORE_COLS, axis = 1)\n",
    "print('df.columns = ', df.columns)\n",
    "\n",
    "print(df.nunique())"
   ]
  },
  {
   "cell_type": "code",
   "execution_count": 189,
   "metadata": {},
   "outputs": [],
   "source": [
    "out_path = os.path.join(DATA_DIR, 'train_8_1500.csv')\n",
    "df.to_csv(out_path, index=False)"
   ]
  },
  {
   "cell_type": "code",
   "execution_count": null,
   "metadata": {},
   "outputs": [],
   "source": []
  }
 ],
 "metadata": {
  "kernelspec": {
   "display_name": "Python 2",
   "language": "python",
   "name": "python2"
  },
  "language_info": {
   "codemirror_mode": {
    "name": "ipython",
    "version": 2
   },
   "file_extension": ".py",
   "mimetype": "text/x-python",
   "name": "python",
   "nbconvert_exporter": "python",
   "pygments_lexer": "ipython2",
   "version": "2.7.6"
  }
 },
 "nbformat": 4,
 "nbformat_minor": 0
}
